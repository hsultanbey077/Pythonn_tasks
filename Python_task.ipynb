{
 "cells": [
  {
   "cell_type": "code",
   "execution_count": 126,
   "id": "0a114387-4bfc-419c-b704-83f48a4cf49c",
   "metadata": {},
   "outputs": [],
   "source": [
    "from bs4 import BeautifulSoup # this module helps in web scrapping.\n",
    "import requests  # this module helps us to download a web page"
   ]
  },
  {
   "cell_type": "code",
   "execution_count": 127,
   "id": "0e74020b-8302-4840-81c3-c7d55aba7bc0",
   "metadata": {},
   "outputs": [],
   "source": [
    "import pandas as pd"
   ]
  },
  {
   "cell_type": "markdown",
   "id": "02fd8bec-8aa7-4d52-a295-b081aeb1bd6d",
   "metadata": {},
   "source": [
    "## Вставление url"
   ]
  },
  {
   "cell_type": "code",
   "execution_count": 162,
   "id": "92a68b23-c34c-45a7-b60c-211f43e93c98",
   "metadata": {},
   "outputs": [],
   "source": [
    "url  = 'https://www.goszakup.gov.kz/ru/registry/rqc?count_record=50&page=10'"
   ]
  },
  {
   "cell_type": "code",
   "execution_count": 163,
   "id": "55a6df85-92f2-443a-b24a-134d65940d8e",
   "metadata": {},
   "outputs": [],
   "source": [
    "data  = requests.get(url,verify=False).text\n",
    "soup = BeautifulSoup(data,\"html.parser\")\n",
    "tables = soup.find_all('table')"
   ]
  },
  {
   "cell_type": "code",
   "execution_count": 164,
   "id": "06841bf7-7051-4f81-81d5-053ab7881e7d",
   "metadata": {},
   "outputs": [
    {
     "name": "stdout",
     "output_type": "stream",
     "text": [
      "\n",
      "\n",
      "\n",
      "№\n",
      "Наименование потенциального поставщика\n",
      "БИН/ИИН\n",
      "Наименование, номер и дата выдачи документа, на основании которого потенциальный поставщик включен в Перечень\n",
      "\n",
      "\n",
      "\n",
      "\n",
      "538\n",
      "\n",
      "\n",
      "Филиал \"Еңбек-Караганда\" РГП на ПХВ \"Еңбек\" учреждений уголовно-исполнительной (пенитенциарной) системы Комитета уголовно-исполнительной системы МВД РК\n",
      "\n",
      "\n",
      "180441017316\n",
      "110000017, 2099-12-31 00:00:00\n",
      "\n",
      "\n",
      "386\n",
      "\n",
      "\n",
      "Товарищество с ограниченной ответственностью \"Обувная фабрика SAMHAT\"\n",
      "\n",
      "\n",
      "140340011221\n",
      "103900001, 2019-08-01 00:00:00\n",
      "\n",
      "\n",
      "858\n",
      "\n",
      "\n",
      "Товарищество с ограниченной ответственностью \"SKINWOOD\"\n",
      "\n",
      "\n",
      "180740028654\n",
      "101100047, 2099-12-31 00:00:00\n",
      "\n",
      "\n",
      "560\n",
      "\n",
      "\n",
      "ТОО \"Arta Software\"\n",
      "\n",
      "\n",
      "050940002848\n",
      "101900059, 2099-12-31 00:00:00\n",
      "\n",
      "\n",
      "873\n",
      "\n",
      "\n",
      "ТОО \"MSSP.GL\"\n",
      "\n",
      "\n",
      "150140024604\n",
      "101000030, 2099-12-31 00:00:00\n",
      "\n",
      "\n",
      "561\n",
      "\n",
      "\n",
      "ТОО \"KAZPROTECT\" (КАЗПРОТЕКТ)\n",
      "\n",
      "\n",
      "140440021222\n",
      "110000027, 2099-12-31 00:00:00\n",
      "\n",
      "\n",
      "839\n",
      "\n",
      "\n",
      "ТОО \"PDMnet\"\n",
      "\n",
      "\n",
      "110740011449\n",
      "101100035, 2099-12-31 00:00:00\n",
      "\n",
      "\n",
      "798\n",
      "\n",
      "\n",
      "Товарищество с ограниченной ответственностью \"Өнерпаз\"\n",
      "\n",
      "\n",
      "020940002804\n",
      "106100003, 2099-12-31 00:00:00\n",
      "\n",
      "\n",
      "681\n",
      "\n",
      "\n",
      "AS & ER GRADE ТОО\n",
      "\n",
      "\n",
      "120940007043\n",
      "116100009, 2099-12-31 00:00:00\n",
      "\n",
      "\n",
      "\n"
     ]
    }
   ],
   "source": [
    "for tables in soup.find_all('table'):\n",
    "    print(tables.text)"
   ]
  },
  {
   "cell_type": "markdown",
   "id": "a0596a6d-29a6-4d96-9660-30490591b334",
   "metadata": {},
   "source": [
    "## Парсинг Наименований и БИН"
   ]
  },
  {
   "cell_type": "code",
   "execution_count": 165,
   "id": "30c98bc3-1842-4b2d-94f9-ce4c69c528cf",
   "metadata": {},
   "outputs": [
    {
     "data": {
      "text/html": [
       "<div>\n",
       "<style scoped>\n",
       "    .dataframe tbody tr th:only-of-type {\n",
       "        vertical-align: middle;\n",
       "    }\n",
       "\n",
       "    .dataframe tbody tr th {\n",
       "        vertical-align: top;\n",
       "    }\n",
       "\n",
       "    .dataframe thead th {\n",
       "        text-align: right;\n",
       "    }\n",
       "</style>\n",
       "<table border=\"1\" class=\"dataframe\">\n",
       "  <thead>\n",
       "    <tr style=\"text-align: right;\">\n",
       "      <th></th>\n",
       "      <th>№</th>\n",
       "      <th>Наименование потенциального поставщика</th>\n",
       "      <th>БИН/ИИН</th>\n",
       "      <th>Наименование, номер и дата выдачи документа</th>\n",
       "    </tr>\n",
       "  </thead>\n",
       "  <tbody>\n",
       "    <tr>\n",
       "      <th>0</th>\n",
       "      <td>538</td>\n",
       "      <td>\\n\\nФилиал \"Еңбек-Караганда\" РГП на ПХВ \"Еңбек...</td>\n",
       "      <td>180441017316</td>\n",
       "      <td>110000017, 2099-12-31 00:00:00</td>\n",
       "    </tr>\n",
       "    <tr>\n",
       "      <th>1</th>\n",
       "      <td>386</td>\n",
       "      <td>\\n\\nТоварищество с ограниченной ответственност...</td>\n",
       "      <td>140340011221</td>\n",
       "      <td>103900001, 2019-08-01 00:00:00</td>\n",
       "    </tr>\n",
       "    <tr>\n",
       "      <th>2</th>\n",
       "      <td>858</td>\n",
       "      <td>\\n\\nТоварищество с ограниченной ответственност...</td>\n",
       "      <td>180740028654</td>\n",
       "      <td>101100047, 2099-12-31 00:00:00</td>\n",
       "    </tr>\n",
       "    <tr>\n",
       "      <th>3</th>\n",
       "      <td>560</td>\n",
       "      <td>\\n\\nТОО \"Arta Software\"\\n\\n</td>\n",
       "      <td>050940002848</td>\n",
       "      <td>101900059, 2099-12-31 00:00:00</td>\n",
       "    </tr>\n",
       "    <tr>\n",
       "      <th>4</th>\n",
       "      <td>873</td>\n",
       "      <td>\\n\\nТОО \"MSSP.GL\"\\n\\n</td>\n",
       "      <td>150140024604</td>\n",
       "      <td>101000030, 2099-12-31 00:00:00</td>\n",
       "    </tr>\n",
       "  </tbody>\n",
       "</table>\n",
       "</div>"
      ],
      "text/plain": [
       "     №             Наименование потенциального поставщика       БИН/ИИН  \\\n",
       "0  538  \\n\\nФилиал \"Еңбек-Караганда\" РГП на ПХВ \"Еңбек...  180441017316   \n",
       "1  386  \\n\\nТоварищество с ограниченной ответственност...  140340011221   \n",
       "2  858  \\n\\nТоварищество с ограниченной ответственност...  180740028654   \n",
       "3  560                        \\n\\nТОО \"Arta Software\"\\n\\n  050940002848   \n",
       "4  873                              \\n\\nТОО \"MSSP.GL\"\\n\\n  150140024604   \n",
       "\n",
       "  Наименование, номер и дата выдачи документа  \n",
       "0              110000017, 2099-12-31 00:00:00  \n",
       "1              103900001, 2019-08-01 00:00:00  \n",
       "2              101100047, 2099-12-31 00:00:00  \n",
       "3              101900059, 2099-12-31 00:00:00  \n",
       "4              101000030, 2099-12-31 00:00:00  "
      ]
     },
     "execution_count": 165,
     "metadata": {},
     "output_type": "execute_result"
    }
   ],
   "source": [
    "df1 = pd.DataFrame(columns=[\"№\", \"Наименование потенциального поставщика\", \"БИН/ИИН\", \n",
    "                                        \"Наименование, номер и дата выдачи документа\"])\n",
    "\n",
    "for row in tables.tbody.find_all(\"tr\"):\n",
    "    col = row.find_all(\"td\")\n",
    "    if (col != []):\n",
    "        num = col[0].text\n",
    "        name = col[1].text\n",
    "        bin_iin = col[2].text.strip()\n",
    "        nomer = col[3].text.strip()\n",
    "        df1 = df1.append({\"№\":num, \"Наименование потенциального поставщика\":name , \n",
    "                                                  \"БИН/ИИН\":bin_iin, \"Наименование, номер и дата выдачи документа\":nomer}, ignore_index=True)\n",
    "\n",
    "df1.head()"
   ]
  },
  {
   "cell_type": "markdown",
   "id": "a229b4be-5388-4aef-8ab1-74e650f8f520",
   "metadata": {},
   "source": [
    "## Получение ссылок с каждой наименовании для изъятия ФИО,ИИН,АДРЕС"
   ]
  },
  {
   "cell_type": "code",
   "execution_count": 166,
   "id": "884202ca-fcf5-49ac-a524-7c26faafa1b8",
   "metadata": {},
   "outputs": [],
   "source": [
    "urls = [tag.find(\"a\")[\"href\"] for tag in soup.select(\"td:has(a)\")]"
   ]
  },
  {
   "cell_type": "markdown",
   "id": "62822035-e7ac-45e3-9b7c-7265ebaa6279",
   "metadata": {},
   "source": [
    "## Получение ИИН, ФИО"
   ]
  },
  {
   "cell_type": "code",
   "execution_count": 167,
   "id": "88fa4043-cdd4-47fc-93d0-8861f8c7636e",
   "metadata": {},
   "outputs": [],
   "source": [
    "import urllib3\n",
    "urllib3.disable_warnings()\n",
    "session = requests.Session()\n",
    "session.trust_env = False\n",
    "iin = []\n",
    "name = []\n",
    "for url in urls:\n",
    "    data1  = requests.get(url,verify=False).text\n",
    "    soup = BeautifulSoup(data1,\"html.parser\")\n",
    "    tables = soup.find_all('table')\n",
    "    v_data = pd.DataFrame(columns=[\"Значения\"])\n",
    "    for row in tables[2].find_all(\"tr\"):\n",
    "        col = row.find_all(\"td\")\n",
    "        if (col != []):\n",
    "            value = col[0].text\n",
    "            v_data = v_data.append({\"Значения\":value}, ignore_index=True)\n",
    "    iin.append(v_data['Значения'][0])\n",
    "    name.append(v_data['Значения'][2])"
   ]
  },
  {
   "cell_type": "code",
   "execution_count": 168,
   "id": "fdbc4e89-e004-438a-b8fb-ab4c87c8a6fa",
   "metadata": {},
   "outputs": [],
   "source": [
    "df1['ИИН Руководителя'] = iin\n",
    "df1['ФИО'] = name"
   ]
  },
  {
   "cell_type": "code",
   "execution_count": 169,
   "id": "c96504cb-3b90-454e-abdd-0e0f730d98e9",
   "metadata": {},
   "outputs": [
    {
     "data": {
      "text/html": [
       "<div>\n",
       "<style scoped>\n",
       "    .dataframe tbody tr th:only-of-type {\n",
       "        vertical-align: middle;\n",
       "    }\n",
       "\n",
       "    .dataframe tbody tr th {\n",
       "        vertical-align: top;\n",
       "    }\n",
       "\n",
       "    .dataframe thead th {\n",
       "        text-align: right;\n",
       "    }\n",
       "</style>\n",
       "<table border=\"1\" class=\"dataframe\">\n",
       "  <thead>\n",
       "    <tr style=\"text-align: right;\">\n",
       "      <th></th>\n",
       "      <th>№</th>\n",
       "      <th>Наименование потенциального поставщика</th>\n",
       "      <th>БИН/ИИН</th>\n",
       "      <th>Наименование, номер и дата выдачи документа</th>\n",
       "      <th>ИИН Руководителя</th>\n",
       "      <th>ФИО</th>\n",
       "    </tr>\n",
       "  </thead>\n",
       "  <tbody>\n",
       "    <tr>\n",
       "      <th>0</th>\n",
       "      <td>538</td>\n",
       "      <td>\\n\\nФилиал \"Еңбек-Караганда\" РГП на ПХВ \"Еңбек...</td>\n",
       "      <td>180441017316</td>\n",
       "      <td>110000017, 2099-12-31 00:00:00</td>\n",
       "      <td>690731300978</td>\n",
       "      <td>КУЛХАЖИЕВ АСЕТ ШЕКЕРБЕКОВИЧ</td>\n",
       "    </tr>\n",
       "    <tr>\n",
       "      <th>1</th>\n",
       "      <td>386</td>\n",
       "      <td>\\n\\nТоварищество с ограниченной ответственност...</td>\n",
       "      <td>140340011221</td>\n",
       "      <td>103900001, 2019-08-01 00:00:00</td>\n",
       "      <td>890621350056</td>\n",
       "      <td>ИСАБЕКОВ АСХАТ ЖУМАБЕКОВИЧ</td>\n",
       "    </tr>\n",
       "    <tr>\n",
       "      <th>2</th>\n",
       "      <td>858</td>\n",
       "      <td>\\n\\nТоварищество с ограниченной ответственност...</td>\n",
       "      <td>180740028654</td>\n",
       "      <td>101100047, 2099-12-31 00:00:00</td>\n",
       "      <td>860717350974</td>\n",
       "      <td>АХМЕТОВ АДИЛЬХАН ДЖАНБУЛАТОВИЧ</td>\n",
       "    </tr>\n",
       "    <tr>\n",
       "      <th>3</th>\n",
       "      <td>560</td>\n",
       "      <td>\\n\\nТОО \"Arta Software\"\\n\\n</td>\n",
       "      <td>050940002848</td>\n",
       "      <td>101900059, 2099-12-31 00:00:00</td>\n",
       "      <td>830502350038</td>\n",
       "      <td>АЛПЫСПАЕВ БАУРЖАН КОШУРБАЕВИЧ</td>\n",
       "    </tr>\n",
       "    <tr>\n",
       "      <th>4</th>\n",
       "      <td>873</td>\n",
       "      <td>\\n\\nТОО \"MSSP.GL\"\\n\\n</td>\n",
       "      <td>150140024604</td>\n",
       "      <td>101000030, 2099-12-31 00:00:00</td>\n",
       "      <td>901006350179</td>\n",
       "      <td>САЛИПОВ ДАУРЕН КАИРГЕЛЬДИНОВИЧ</td>\n",
       "    </tr>\n",
       "  </tbody>\n",
       "</table>\n",
       "</div>"
      ],
      "text/plain": [
       "     №             Наименование потенциального поставщика       БИН/ИИН  \\\n",
       "0  538  \\n\\nФилиал \"Еңбек-Караганда\" РГП на ПХВ \"Еңбек...  180441017316   \n",
       "1  386  \\n\\nТоварищество с ограниченной ответственност...  140340011221   \n",
       "2  858  \\n\\nТоварищество с ограниченной ответственност...  180740028654   \n",
       "3  560                        \\n\\nТОО \"Arta Software\"\\n\\n  050940002848   \n",
       "4  873                              \\n\\nТОО \"MSSP.GL\"\\n\\n  150140024604   \n",
       "\n",
       "  Наименование, номер и дата выдачи документа ИИН Руководителя  \\\n",
       "0              110000017, 2099-12-31 00:00:00     690731300978   \n",
       "1              103900001, 2019-08-01 00:00:00     890621350056   \n",
       "2              101100047, 2099-12-31 00:00:00     860717350974   \n",
       "3              101900059, 2099-12-31 00:00:00     830502350038   \n",
       "4              101000030, 2099-12-31 00:00:00     901006350179   \n",
       "\n",
       "                              ФИО  \n",
       "0     КУЛХАЖИЕВ АСЕТ ШЕКЕРБЕКОВИЧ  \n",
       "1      ИСАБЕКОВ АСХАТ ЖУМАБЕКОВИЧ  \n",
       "2  АХМЕТОВ АДИЛЬХАН ДЖАНБУЛАТОВИЧ  \n",
       "3   АЛПЫСПАЕВ БАУРЖАН КОШУРБАЕВИЧ  \n",
       "4  САЛИПОВ ДАУРЕН КАИРГЕЛЬДИНОВИЧ  "
      ]
     },
     "execution_count": 169,
     "metadata": {},
     "output_type": "execute_result"
    }
   ],
   "source": [
    "df1.head()"
   ]
  },
  {
   "cell_type": "markdown",
   "id": "c2e52993-68c6-4f75-bbc5-cbe0fbfa1f34",
   "metadata": {},
   "source": [
    "## Получения Адресов"
   ]
  },
  {
   "cell_type": "code",
   "execution_count": 170,
   "id": "b264ebf3-ac65-4bc8-8f35-1110774f2050",
   "metadata": {},
   "outputs": [],
   "source": [
    "import urllib3\n",
    "urllib3.disable_warnings()\n",
    "address = []\n",
    "for url in urls:\n",
    "    data1  = requests.get(url,verify=False).text\n",
    "    soup = BeautifulSoup(data1,\"html.parser\")\n",
    "    tables = soup.find_all('table')\n",
    "    v_data = pd.DataFrame(columns=[\"Адрес\"])\n",
    "    for row in tables[3].find_all(\"tr\"):\n",
    "        col = row.find_all(\"td\")\n",
    "        if (col != []):\n",
    "            rank = col[2].text\n",
    "            v_data = v_data.append({\"Адрес\":rank}, ignore_index=True)\n",
    "    address.append(v_data['Адрес'][0].strip())"
   ]
  },
  {
   "cell_type": "code",
   "execution_count": 171,
   "id": "b1e87ff3-7026-4727-b8d8-3de8ab050ee9",
   "metadata": {},
   "outputs": [
    {
     "data": {
      "text/plain": [
       "9"
      ]
     },
     "execution_count": 171,
     "metadata": {},
     "output_type": "execute_result"
    }
   ],
   "source": [
    "len(address)"
   ]
  },
  {
   "cell_type": "code",
   "execution_count": 172,
   "id": "1dfc8117-cf5f-4cfa-92fb-cee3513fe707",
   "metadata": {},
   "outputs": [],
   "source": [
    "df1['Адрес'] = address"
   ]
  },
  {
   "cell_type": "code",
   "execution_count": 173,
   "id": "422d7fbc-e27e-4575-8db8-4933bace08b5",
   "metadata": {},
   "outputs": [
    {
     "data": {
      "text/html": [
       "<div>\n",
       "<style scoped>\n",
       "    .dataframe tbody tr th:only-of-type {\n",
       "        vertical-align: middle;\n",
       "    }\n",
       "\n",
       "    .dataframe tbody tr th {\n",
       "        vertical-align: top;\n",
       "    }\n",
       "\n",
       "    .dataframe thead th {\n",
       "        text-align: right;\n",
       "    }\n",
       "</style>\n",
       "<table border=\"1\" class=\"dataframe\">\n",
       "  <thead>\n",
       "    <tr style=\"text-align: right;\">\n",
       "      <th></th>\n",
       "      <th>№</th>\n",
       "      <th>Наименование потенциального поставщика</th>\n",
       "      <th>БИН/ИИН</th>\n",
       "      <th>Наименование, номер и дата выдачи документа</th>\n",
       "      <th>ИИН Руководителя</th>\n",
       "      <th>ФИО</th>\n",
       "      <th>Адрес</th>\n",
       "    </tr>\n",
       "  </thead>\n",
       "  <tbody>\n",
       "    <tr>\n",
       "      <th>0</th>\n",
       "      <td>538</td>\n",
       "      <td>\\n\\nФилиал \"Еңбек-Караганда\" РГП на ПХВ \"Еңбек...</td>\n",
       "      <td>180441017316</td>\n",
       "      <td>110000017, 2099-12-31 00:00:00</td>\n",
       "      <td>690731300978</td>\n",
       "      <td>КУЛХАЖИЕВ АСЕТ ШЕКЕРБЕКОВИЧ</td>\n",
       "      <td>Карагандинская область, г.Караганда, Поспелова...</td>\n",
       "    </tr>\n",
       "    <tr>\n",
       "      <th>1</th>\n",
       "      <td>386</td>\n",
       "      <td>\\n\\nТоварищество с ограниченной ответственност...</td>\n",
       "      <td>140340011221</td>\n",
       "      <td>103900001, 2019-08-01 00:00:00</td>\n",
       "      <td>890621350056</td>\n",
       "      <td>ИСАБЕКОВ АСХАТ ЖУМАБЕКОВИЧ</td>\n",
       "      <td>Акмолинская область, Целиноградский район, с.А...</td>\n",
       "    </tr>\n",
       "    <tr>\n",
       "      <th>2</th>\n",
       "      <td>858</td>\n",
       "      <td>\\n\\nТоварищество с ограниченной ответственност...</td>\n",
       "      <td>180740028654</td>\n",
       "      <td>101100047, 2099-12-31 00:00:00</td>\n",
       "      <td>860717350974</td>\n",
       "      <td>АХМЕТОВ АДИЛЬХАН ДЖАНБУЛАТОВИЧ</td>\n",
       "      <td>г.Нур-Султан, Бейбитшилик, 54А</td>\n",
       "    </tr>\n",
       "    <tr>\n",
       "      <th>3</th>\n",
       "      <td>560</td>\n",
       "      <td>\\n\\nТОО \"Arta Software\"\\n\\n</td>\n",
       "      <td>050940002848</td>\n",
       "      <td>101900059, 2099-12-31 00:00:00</td>\n",
       "      <td>830502350038</td>\n",
       "      <td>АЛПЫСПАЕВ БАУРЖАН КОШУРБАЕВИЧ</td>\n",
       "      <td>г.Нур-Султан, район Есиль, проспект Мангилик Е...</td>\n",
       "    </tr>\n",
       "    <tr>\n",
       "      <th>4</th>\n",
       "      <td>873</td>\n",
       "      <td>\\n\\nТОО \"MSSP.GL\"\\n\\n</td>\n",
       "      <td>150140024604</td>\n",
       "      <td>101000030, 2099-12-31 00:00:00</td>\n",
       "      <td>901006350179</td>\n",
       "      <td>САЛИПОВ ДАУРЕН КАИРГЕЛЬДИНОВИЧ</td>\n",
       "      <td>г.Нур-Султан, Туркистан, 14А, 134</td>\n",
       "    </tr>\n",
       "  </tbody>\n",
       "</table>\n",
       "</div>"
      ],
      "text/plain": [
       "     №             Наименование потенциального поставщика       БИН/ИИН  \\\n",
       "0  538  \\n\\nФилиал \"Еңбек-Караганда\" РГП на ПХВ \"Еңбек...  180441017316   \n",
       "1  386  \\n\\nТоварищество с ограниченной ответственност...  140340011221   \n",
       "2  858  \\n\\nТоварищество с ограниченной ответственност...  180740028654   \n",
       "3  560                        \\n\\nТОО \"Arta Software\"\\n\\n  050940002848   \n",
       "4  873                              \\n\\nТОО \"MSSP.GL\"\\n\\n  150140024604   \n",
       "\n",
       "  Наименование, номер и дата выдачи документа ИИН Руководителя  \\\n",
       "0              110000017, 2099-12-31 00:00:00     690731300978   \n",
       "1              103900001, 2019-08-01 00:00:00     890621350056   \n",
       "2              101100047, 2099-12-31 00:00:00     860717350974   \n",
       "3              101900059, 2099-12-31 00:00:00     830502350038   \n",
       "4              101000030, 2099-12-31 00:00:00     901006350179   \n",
       "\n",
       "                              ФИО  \\\n",
       "0     КУЛХАЖИЕВ АСЕТ ШЕКЕРБЕКОВИЧ   \n",
       "1      ИСАБЕКОВ АСХАТ ЖУМАБЕКОВИЧ   \n",
       "2  АХМЕТОВ АДИЛЬХАН ДЖАНБУЛАТОВИЧ   \n",
       "3   АЛПЫСПАЕВ БАУРЖАН КОШУРБАЕВИЧ   \n",
       "4  САЛИПОВ ДАУРЕН КАИРГЕЛЬДИНОВИЧ   \n",
       "\n",
       "                                               Адрес  \n",
       "0  Карагандинская область, г.Караганда, Поспелова...  \n",
       "1  Акмолинская область, Целиноградский район, с.А...  \n",
       "2                     г.Нур-Султан, Бейбитшилик, 54А  \n",
       "3  г.Нур-Султан, район Есиль, проспект Мангилик Е...  \n",
       "4                  г.Нур-Султан, Туркистан, 14А, 134  "
      ]
     },
     "execution_count": 173,
     "metadata": {},
     "output_type": "execute_result"
    }
   ],
   "source": [
    "df1.head()"
   ]
  },
  {
   "cell_type": "markdown",
   "id": "409f0398-e9fc-45cb-b943-e834bc8be80e",
   "metadata": {},
   "source": [
    "## Очистка данных"
   ]
  },
  {
   "cell_type": "code",
   "execution_count": 174,
   "id": "9cfd3290-536e-45ce-8e3d-5d220b0d6163",
   "metadata": {},
   "outputs": [],
   "source": [
    "df1['Наименование потенциального поставщика'] = df1['Наименование потенциального поставщика'].apply(lambda x : x.strip())"
   ]
  },
  {
   "cell_type": "code",
   "execution_count": 175,
   "id": "0e0fcd12-7d0d-484e-9580-63a8fef01674",
   "metadata": {},
   "outputs": [],
   "source": [
    "df1.drop(columns =['Наименование, номер и дата выдачи документа'],inplace=True)"
   ]
  },
  {
   "cell_type": "code",
   "execution_count": 176,
   "id": "4ac97c43-7029-4543-96e1-ed6f7c217cc2",
   "metadata": {},
   "outputs": [
    {
     "data": {
      "text/html": [
       "<div>\n",
       "<style scoped>\n",
       "    .dataframe tbody tr th:only-of-type {\n",
       "        vertical-align: middle;\n",
       "    }\n",
       "\n",
       "    .dataframe tbody tr th {\n",
       "        vertical-align: top;\n",
       "    }\n",
       "\n",
       "    .dataframe thead th {\n",
       "        text-align: right;\n",
       "    }\n",
       "</style>\n",
       "<table border=\"1\" class=\"dataframe\">\n",
       "  <thead>\n",
       "    <tr style=\"text-align: right;\">\n",
       "      <th></th>\n",
       "      <th>№</th>\n",
       "      <th>Наименование потенциального поставщика</th>\n",
       "      <th>БИН/ИИН</th>\n",
       "      <th>ИИН Руководителя</th>\n",
       "      <th>ФИО</th>\n",
       "      <th>Адрес</th>\n",
       "    </tr>\n",
       "  </thead>\n",
       "  <tbody>\n",
       "    <tr>\n",
       "      <th>0</th>\n",
       "      <td>538</td>\n",
       "      <td>Филиал \"Еңбек-Караганда\" РГП на ПХВ \"Еңбек\" уч...</td>\n",
       "      <td>180441017316</td>\n",
       "      <td>690731300978</td>\n",
       "      <td>КУЛХАЖИЕВ АСЕТ ШЕКЕРБЕКОВИЧ</td>\n",
       "      <td>Карагандинская область, г.Караганда, Поспелова...</td>\n",
       "    </tr>\n",
       "    <tr>\n",
       "      <th>1</th>\n",
       "      <td>386</td>\n",
       "      <td>Товарищество с ограниченной ответственностью \"...</td>\n",
       "      <td>140340011221</td>\n",
       "      <td>890621350056</td>\n",
       "      <td>ИСАБЕКОВ АСХАТ ЖУМАБЕКОВИЧ</td>\n",
       "      <td>Акмолинская область, Целиноградский район, с.А...</td>\n",
       "    </tr>\n",
       "    <tr>\n",
       "      <th>2</th>\n",
       "      <td>858</td>\n",
       "      <td>Товарищество с ограниченной ответственностью \"...</td>\n",
       "      <td>180740028654</td>\n",
       "      <td>860717350974</td>\n",
       "      <td>АХМЕТОВ АДИЛЬХАН ДЖАНБУЛАТОВИЧ</td>\n",
       "      <td>г.Нур-Султан, Бейбитшилик, 54А</td>\n",
       "    </tr>\n",
       "    <tr>\n",
       "      <th>3</th>\n",
       "      <td>560</td>\n",
       "      <td>ТОО \"Arta Software\"</td>\n",
       "      <td>050940002848</td>\n",
       "      <td>830502350038</td>\n",
       "      <td>АЛПЫСПАЕВ БАУРЖАН КОШУРБАЕВИЧ</td>\n",
       "      <td>г.Нур-Султан, район Есиль, проспект Мангилик Е...</td>\n",
       "    </tr>\n",
       "    <tr>\n",
       "      <th>4</th>\n",
       "      <td>873</td>\n",
       "      <td>ТОО \"MSSP.GL\"</td>\n",
       "      <td>150140024604</td>\n",
       "      <td>901006350179</td>\n",
       "      <td>САЛИПОВ ДАУРЕН КАИРГЕЛЬДИНОВИЧ</td>\n",
       "      <td>г.Нур-Султан, Туркистан, 14А, 134</td>\n",
       "    </tr>\n",
       "  </tbody>\n",
       "</table>\n",
       "</div>"
      ],
      "text/plain": [
       "     №             Наименование потенциального поставщика       БИН/ИИН  \\\n",
       "0  538  Филиал \"Еңбек-Караганда\" РГП на ПХВ \"Еңбек\" уч...  180441017316   \n",
       "1  386  Товарищество с ограниченной ответственностью \"...  140340011221   \n",
       "2  858  Товарищество с ограниченной ответственностью \"...  180740028654   \n",
       "3  560                                ТОО \"Arta Software\"  050940002848   \n",
       "4  873                                      ТОО \"MSSP.GL\"  150140024604   \n",
       "\n",
       "  ИИН Руководителя                             ФИО  \\\n",
       "0     690731300978     КУЛХАЖИЕВ АСЕТ ШЕКЕРБЕКОВИЧ   \n",
       "1     890621350056      ИСАБЕКОВ АСХАТ ЖУМАБЕКОВИЧ   \n",
       "2     860717350974  АХМЕТОВ АДИЛЬХАН ДЖАНБУЛАТОВИЧ   \n",
       "3     830502350038   АЛПЫСПАЕВ БАУРЖАН КОШУРБАЕВИЧ   \n",
       "4     901006350179  САЛИПОВ ДАУРЕН КАИРГЕЛЬДИНОВИЧ   \n",
       "\n",
       "                                               Адрес  \n",
       "0  Карагандинская область, г.Караганда, Поспелова...  \n",
       "1  Акмолинская область, Целиноградский район, с.А...  \n",
       "2                     г.Нур-Султан, Бейбитшилик, 54А  \n",
       "3  г.Нур-Султан, район Есиль, проспект Мангилик Е...  \n",
       "4                  г.Нур-Султан, Туркистан, 14А, 134  "
      ]
     },
     "execution_count": 176,
     "metadata": {},
     "output_type": "execute_result"
    }
   ],
   "source": [
    "df1.head()"
   ]
  },
  {
   "cell_type": "markdown",
   "id": "a95d812a-ee33-45f5-9ee6-f796d1284354",
   "metadata": {},
   "source": [
    "## И повторяем эти шаги для всех 10 страниц, и сохраняем их"
   ]
  },
  {
   "cell_type": "code",
   "execution_count": 177,
   "id": "91824dac-17fa-4350-b0ba-c79d61eb32b4",
   "metadata": {},
   "outputs": [],
   "source": [
    "df1.to_excel(r'Desktop\\tenth.xlsx')"
   ]
  },
  {
   "cell_type": "markdown",
   "id": "2d06458b-3699-49cf-8e7d-0a7016026312",
   "metadata": {},
   "source": [
    "## Полный датасет смотрите в файле Join_Dataset.ipynb, там найдете полный датасет "
   ]
  },
  {
   "cell_type": "code",
   "execution_count": null,
   "id": "8d4c7f26-1fc8-4be9-8362-ffbaa4dae297",
   "metadata": {},
   "outputs": [],
   "source": []
  }
 ],
 "metadata": {
  "kernelspec": {
   "display_name": "Python 3",
   "language": "python",
   "name": "python3"
  },
  "language_info": {
   "codemirror_mode": {
    "name": "ipython",
    "version": 3
   },
   "file_extension": ".py",
   "mimetype": "text/x-python",
   "name": "python",
   "nbconvert_exporter": "python",
   "pygments_lexer": "ipython3",
   "version": "3.8.8"
  }
 },
 "nbformat": 4,
 "nbformat_minor": 5
}
